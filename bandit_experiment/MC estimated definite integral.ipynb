{
 "cells": [
  {
   "attachments": {},
   "cell_type": "markdown",
   "metadata": {},
   "source": [
    "### MC estimated definite integral $$\\int_a^b f(x) d x$$\n",
    "\n",
    "* Generate $n$ random numbers uniformly distributed on $(a, b)$ $x_i, i=1,2,3 \\ldots, n$\n",
    "* Calculate $f\\left(x_i\\right)$ corresponding to each random number $x_i$\n",
    "* Estimate $\\int_a^b f(x) \\mathrm{d} x \\approx(b-a) \\frac{1}{n} \\sum_{i=1}^n f\\left(x_i\\right)$"
   ]
  },
  {
   "cell_type": "code",
   "execution_count": 2,
   "metadata": {},
   "outputs": [
    {
     "name": "stdout",
     "output_type": "stream",
     "text": [
      "[0.         0.11111111 0.22222222 0.33333333 0.44444444 0.55555556\n",
      " 0.66666667 0.77777778 0.88888889 1.        ]\n"
     ]
    }
   ],
   "source": [
    "import numpy as np\n",
    "\n",
    "n = 10\n",
    "a = 0\n",
    "b = 1\n",
    "\n",
    "random_nums = np.linspace(a, b, n)\n",
    "print(random_nums)\n"
   ]
  },
  {
   "cell_type": "code",
   "execution_count": 3,
   "metadata": {},
   "outputs": [],
   "source": [
    "def func(input):\n",
    "    \n",
    "    output = np.exp(0 - input*input/2) / pow(2*np.pi, 0.5)\n",
    "    \n",
    "    return output"
   ]
  },
  {
   "cell_type": "code",
   "execution_count": 6,
   "metadata": {},
   "outputs": [],
   "source": [
    "def estimate(a, b, n):\n",
    "    \n",
    "    temp = 0\n",
    "    for i in random_nums:\n",
    "        temp += func(i)\n",
    "    \n",
    "    output = (b-a)/n * temp\n",
    "    \n",
    "    return output"
   ]
  },
  {
   "cell_type": "code",
   "execution_count": 7,
   "metadata": {},
   "outputs": [
    {
     "name": "stdout",
     "output_type": "stream",
     "text": [
      "i =  1 estimated_num = 0.33903178245878307\n",
      "i =  2 estimated_num = 0.3411338268349227\n",
      "i =  3 estimated_num = 0.34132383764052215\n",
      "i =  5 estimated_num = 0.3413445371840855\n",
      "i =  8 estimated_num = 0.34134474585968483\n"
     ]
    }
   ],
   "source": [
    "t = [1, 2, 3, 5, 8]\n",
    "\n",
    "for i in t:\n",
    "    n = pow(10,i)\n",
    "    a = 0\n",
    "    b = 1\n",
    "\n",
    "    random_nums = np.linspace(a, b, n)\n",
    "    \n",
    "    print(\"i = \", i, \"estimated_num =\", estimate(a, b, n))\n",
    "\n"
   ]
  }
 ],
 "metadata": {
  "kernelspec": {
   "display_name": "base",
   "language": "python",
   "name": "python3"
  },
  "language_info": {
   "codemirror_mode": {
    "name": "ipython",
    "version": 3
   },
   "file_extension": ".py",
   "mimetype": "text/x-python",
   "name": "python",
   "nbconvert_exporter": "python",
   "pygments_lexer": "ipython3",
   "version": "3.10.9"
  },
  "orig_nbformat": 4
 },
 "nbformat": 4,
 "nbformat_minor": 2
}
