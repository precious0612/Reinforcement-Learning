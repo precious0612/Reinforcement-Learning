{
 "cells": [
  {
   "attachments": {},
   "cell_type": "markdown",
   "metadata": {},
   "source": [
    "4 × 4 grid world，折现为 γ = 0.8，智能体采取如下的策略\n",
    "π(n|.) = π(e|.) = π(s|.) = π(w|.) = 0.25，试分别给出在该\n",
    "策略下第1,2,3,10次迭代时状态1-14的v (s)"
   ]
  },
  {
   "cell_type": "code",
   "execution_count": null,
   "metadata": {},
   "outputs": [],
   "source": [
    "import numpy as np"
   ]
  },
  {
   "cell_type": "code",
   "execution_count": null,
   "metadata": {},
   "outputs": [],
   "source": [
    "n = 16\n",
    "\n",
    "gamma = 0.8\n",
    "r = -1\n",
    "V = np.zeros(n)\n",
    "S_ = np.array([[0,0,0,0],\n",
    "               [0,1,2,5],\n",
    "               [1,2,3,6],\n",
    "               [2,3,3,7],\n",
    "               [0,4,5,8],\n",
    "               [1,4,6,9],\n",
    "               [2,5,7,10],\n",
    "               [3,6,7,11],\n",
    "               [4,8,9,12],\n",
    "               [5,8,10,13],\n",
    "               [6,9,11,14],\n",
    "               [7,10,11,15],\n",
    "               [8,12,12,13],\n",
    "               [9,12,13,14],\n",
    "               [10,13,14,15],\n",
    "               [15,15,15,15]])"
   ]
  },
  {
   "cell_type": "code",
   "execution_count": 16,
   "metadata": {},
   "outputs": [
    {
     "name": "stdout",
     "output_type": "stream",
     "text": [
      "k =  1  v: [ 0.         -3.34848879 -4.31172647 -4.54106044 -3.34848879 -4.0823925\n",
      " -4.35759936 -4.31172647 -4.31172647 -4.35759936 -4.0823925  -3.34848879\n",
      " -4.54106044 -4.31172647 -3.34848879  0.        ]\n",
      "k =  1  delta: 7.172131692012584e-05\n"
     ]
    },
    {
     "data": {
      "text/plain": [
       "dtype('float64')"
      ]
     },
     "execution_count": 16,
     "metadata": {},
     "output_type": "execute_result"
    }
   ],
   "source": [
    "count = 0\n",
    "theta = 0.1\n",
    "\n",
    "while True:\n",
    "    delta = 0\n",
    "    pre_V = V.copy()\n",
    "    for s in range(1,15):\n",
    "        v = pre_V[s]\n",
    "        temp = 0\n",
    "        for a in S_[s]:\n",
    "            # print(pre_V[a])\n",
    "            temp += 0.25 * (r + gamma * pre_V[a])\n",
    "        \n",
    "        V[s] = temp\n",
    "        # print(V[s])\n",
    "        \n",
    "        delta = max(abs(v - V[s]), delta)\n",
    "    \n",
    "    # break\n",
    "    \n",
    "    count += 1\n",
    "    print(\"k = \" , count , \" v:\" , V)\n",
    "    print(\"k = \" , count , \" delta:\" , delta)\n",
    "    \n",
    "    if delta < theta:\n",
    "        break\n"
   ]
  },
  {
   "cell_type": "code",
   "execution_count": null,
   "metadata": {},
   "outputs": [],
   "source": []
  }
 ],
 "metadata": {
  "kernelspec": {
   "display_name": "base",
   "language": "python",
   "name": "python3"
  },
  "language_info": {
   "codemirror_mode": {
    "name": "ipython",
    "version": 3
   },
   "file_extension": ".py",
   "mimetype": "text/x-python",
   "name": "python",
   "nbconvert_exporter": "python",
   "pygments_lexer": "ipython3",
   "version": "3.10.9"
  },
  "orig_nbformat": 4
 },
 "nbformat": 4,
 "nbformat_minor": 2
}
