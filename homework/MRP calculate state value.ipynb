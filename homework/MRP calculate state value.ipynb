{
 "cells": [
  {
   "cell_type": "code",
   "execution_count": 4,
   "metadata": {},
   "outputs": [],
   "source": [
    "import numpy as np"
   ]
  },
  {
   "cell_type": "code",
   "execution_count": 22,
   "metadata": {},
   "outputs": [],
   "source": [
    "k = 7\n",
    "\n",
    "P = np.array([[0, 0, 0, 0, 0, 0, 0],\n",
    "              [0.5, 0, 0.5, 0, 0, 0, 0],\n",
    "              [0, 0.5, 0, 0.5, 0, 0, 0],\n",
    "              [0, 0, 0.5, 0, 0.5, 0, 0],\n",
    "              [0, 0, 0, 0.5, 0, 0.5, 0],\n",
    "              [0, 0, 0, 0, 0.5, 0, 0.5],\n",
    "              [0, 0, 0, 0, 0, 0, 0]])\n",
    "\n",
    "R = np.array([0, 0, 0, 0, 0, 0, 1])\n",
    "\n",
    "gamma = 1"
   ]
  },
  {
   "cell_type": "code",
   "execution_count": 23,
   "metadata": {},
   "outputs": [
    {
     "data": {
      "text/plain": [
       "array([0.        , 0.16666667, 0.33333333, 0.5       , 0.66666667,\n",
       "       0.83333333, 1.        ])"
      ]
     },
     "execution_count": 23,
     "metadata": {},
     "output_type": "execute_result"
    }
   ],
   "source": [
    "V = np.zeros(k)\n",
    "\n",
    "max_iterations = 1000\n",
    "\n",
    "for i in range(max_iterations):\n",
    "    V_new = R + gamma * P.dot(V)\n",
    "    # if np.allclose(V, V_new):\n",
    "    #     print(i+1)\n",
    "    #     break\n",
    "    V = V_new\n",
    "    \n",
    "V"
   ]
  },
  {
   "cell_type": "code",
   "execution_count": null,
   "metadata": {},
   "outputs": [],
   "source": []
  }
 ],
 "metadata": {
  "kernelspec": {
   "display_name": "base",
   "language": "python",
   "name": "python3"
  },
  "language_info": {
   "codemirror_mode": {
    "name": "ipython",
    "version": 3
   },
   "file_extension": ".py",
   "mimetype": "text/x-python",
   "name": "python",
   "nbconvert_exporter": "python",
   "pygments_lexer": "ipython3",
   "version": "3.10.9"
  },
  "orig_nbformat": 4
 },
 "nbformat": 4,
 "nbformat_minor": 2
}
