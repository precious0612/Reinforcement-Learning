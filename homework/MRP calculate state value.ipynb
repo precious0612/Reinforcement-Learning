{
 "cells": [
  {
   "cell_type": "code",
   "execution_count": null,
   "metadata": {},
   "outputs": [],
   "source": [
    "import numpy as np"
   ]
  },
  {
   "cell_type": "code",
   "execution_count": 127,
   "metadata": {},
   "outputs": [],
   "source": [
    "k = 7\n",
    "\n",
    "# P = np.array([[0, 0, 0, 0, 0, 0, 0],\n",
    "#               [0.5, 0, 0.5, 0, 0, 0, 0],\n",
    "#               [0, 0.5, 0, 0.5, 0, 0, 0],\n",
    "#               [0, 0, 0.5, 0, 0.5, 0, 0],\n",
    "#               [0, 0, 0, 0.5, 0, 0.5, 0],\n",
    "#               [0, 0, 0, 0, 0.5, 0, 0.5],\n",
    "#               [0, 0, 0, 0, 0, 0, 0]])\n",
    "\n",
    "P = np.array([[0.9, 0.1, 0, 0, 0, 0, 0],\n",
    "              [0.5, 0, 0, 0.5, 0, 0, 0],\n",
    "              [0, 0.2, 0, 0.4, 0.4, 0, 0],\n",
    "              [0, 0, 0, 0, 0.8, 0, 0.2],\n",
    "              [0, 0, 0.4, 0, 0, 0.6, 0],\n",
    "              [0, 0, 0, 0, 0, 0, 1],\n",
    "              [0, 0, 0, 0, 0, 0, 0]])\n",
    "\n",
    "r = np.array([-1,-2,1,-2,-2,10,0])\n",
    "# R = P.dot(r.T)\n",
    "# print(R)"
   ]
  },
  {
   "cell_type": "code",
   "execution_count": 128,
   "metadata": {},
   "outputs": [
    {
     "name": "stdout",
     "output_type": "stream",
     "text": [
      "[-22.54320988 -12.54320988   0.80246914   1.45679012   4.32098765\n",
      "  10.           0.        ]\n"
     ]
    }
   ],
   "source": [
    "gamma = 1\n",
    "V = np.zeros(k)\n",
    "\n",
    "max_iterations = 1000\n",
    "\n",
    "for i in range(max_iterations):\n",
    "    V_new = r + gamma * P.dot(V.T)\n",
    "    # if np.allclose(V, V_new):\n",
    "    #     print(i+1)\n",
    "    #     break\n",
    "    V = V_new\n",
    "    \n",
    "print(V)"
   ]
  },
  {
   "cell_type": "code",
   "execution_count": 129,
   "metadata": {},
   "outputs": [
    {
     "name": "stdout",
     "output_type": "stream",
     "text": [
      "[-22.54320988 -12.54320988   0.80246914   1.45679012   4.32098765\n",
      "  10.           0.        ]\n"
     ]
    }
   ],
   "source": [
    "v = np.linalg.inv(np.identity(k) - gamma * P).dot(r.T)\n",
    "print(v)"
   ]
  },
  {
   "cell_type": "code",
   "execution_count": 135,
   "metadata": {},
   "outputs": [
    {
     "name": "stdout",
     "output_type": "stream",
     "text": [
      "[-1.1 -1.5 -2.  -1.6  6.4  0.   0. ]\n"
     ]
    }
   ],
   "source": [
    "k = 7\n",
    "\n",
    "P = np.array([[0.9, 0.1, 0, 0, 0, 0, 0],\n",
    "              [0.5, 0, 0, 0.5, 0, 0, 0],\n",
    "              [0, 0.2, 0, 0.4, 0.4, 0, 0],\n",
    "              [0, 0, 0, 0, 0.8, 0, 0.2],\n",
    "              [0, 0, 0.4, 0, 0, 0.6, 0],\n",
    "              [0, 0, 0, 0, 0, 0, 1],\n",
    "              [0, 0, 0, 0, 0, 0, 1]])\n",
    "\n",
    "r = np.array([-1,-2,1,-2,-2,10,0])\n",
    "R = P.dot(r.T)\n",
    "print(R)"
   ]
  },
  {
   "cell_type": "code",
   "execution_count": 137,
   "metadata": {},
   "outputs": [
    {
     "name": "stdout",
     "output_type": "stream",
     "text": [
      "[-15.01272891  -8.36020548   2.91771719   4.2122723   10.85037819\n",
      "  10.           0.        ]\n"
     ]
    }
   ],
   "source": [
    "gamma = 0.9\n",
    "\n",
    "V = np.zeros(k)\n",
    "\n",
    "max_iterations = 10000\n",
    "\n",
    "for i in range(max_iterations):\n",
    "    V_new = R + r + gamma * P.dot(V.T)\n",
    "    # if np.allclose(V, V_new):\n",
    "    #     print(i+1)\n",
    "    #     break\n",
    "    V = V_new\n",
    "    \n",
    "print(V)"
   ]
  },
  {
   "cell_type": "code",
   "execution_count": 139,
   "metadata": {},
   "outputs": [
    {
     "name": "stdout",
     "output_type": "stream",
     "text": [
      "[-15.01272891  -8.36020548   2.91771719   4.2122723   10.85037819\n",
      "  10.           0.        ]\n"
     ]
    }
   ],
   "source": [
    "v = np.linalg.inv(np.identity(k) - gamma * P).dot((R+r).T)\n",
    "print(v)"
   ]
  },
  {
   "cell_type": "code",
   "execution_count": null,
   "metadata": {},
   "outputs": [],
   "source": []
  }
 ],
 "metadata": {
  "kernelspec": {
   "display_name": "base",
   "language": "python",
   "name": "python3"
  },
  "language_info": {
   "codemirror_mode": {
    "name": "ipython",
    "version": 3
   },
   "file_extension": ".py",
   "mimetype": "text/x-python",
   "name": "python",
   "nbconvert_exporter": "python",
   "pygments_lexer": "ipython3",
   "version": "3.10.9"
  },
  "orig_nbformat": 4
 },
 "nbformat": 4,
 "nbformat_minor": 2
}
