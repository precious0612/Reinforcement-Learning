{
 "cells": [
  {
   "cell_type": "code",
   "execution_count": 1,
   "metadata": {},
   "outputs": [],
   "source": [
    "import numpy as np"
   ]
  },
  {
   "cell_type": "code",
   "execution_count": 8,
   "metadata": {},
   "outputs": [],
   "source": [
    "k = 7\n",
    "\n",
    "P = np.array([[0, 0, 0, 0, 0, 0, 0],\n",
    "              [0.5, 0, 0.5, 0, 0, 0, 0],\n",
    "              [0, 0.5, 0, 0.5, 0, 0, 0],\n",
    "              [0, 0, 0.5, 0, 0.5, 0, 0],\n",
    "              [0, 0, 0, 0.5, 0, 0.5, 0],\n",
    "              [0, 0, 0, 0, 0.5, 0, 0.5],\n",
    "              [0, 0, 0, 0, 0, 0, 0]])\n",
    "\n",
    "R = np.array([0, 0, 0, 0, 0, 0, 1])\n",
    "\n",
    "gamma = 1"
   ]
  },
  {
   "cell_type": "code",
   "execution_count": 10,
   "metadata": {},
   "outputs": [
    {
     "name": "stdout",
     "output_type": "stream",
     "text": [
      "77\n",
      "[0.         0.16666071 0.33332141 0.49998808 0.66665475 0.83332737\n",
      " 1.        ]\n"
     ]
    }
   ],
   "source": [
    "V = np.zeros(k)\n",
    "\n",
    "max_iterations = 1000\n",
    "\n",
    "for i in range(max_iterations):\n",
    "    V_new = np.zeros(k)\n",
    "    for s in range(k):\n",
    "        V_new[s] = R[s] + gamma * np.sum(P[s,:] * V)\n",
    "    if np.allclose(V, V_new):\n",
    "        print(i+1)\n",
    "        break\n",
    "    V = V_new\n",
    "    \n",
    "print(V)"
   ]
  }
 ],
 "metadata": {
  "kernelspec": {
   "display_name": "base",
   "language": "python",
   "name": "python3"
  },
  "language_info": {
   "codemirror_mode": {
    "name": "ipython",
    "version": 3
   },
   "file_extension": ".py",
   "mimetype": "text/x-python",
   "name": "python",
   "nbconvert_exporter": "python",
   "pygments_lexer": "ipython3",
   "version": "3.10.9"
  },
  "orig_nbformat": 4
 },
 "nbformat": 4,
 "nbformat_minor": 2
}
